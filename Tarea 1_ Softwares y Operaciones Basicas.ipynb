{
 "cells": [
  {
   "cell_type": "markdown",
   "metadata": {},
   "source": [
    "# Tarea 1: Plataformas y operaciones básicas\n",
    "\n",
    "\n",
    "¡Bienvenidos al curso! Esta sería la primera tarea, como estamos apenas calentando motores, lo primero que tenemos que asegurarnos es que tengamos todos instalados los softwares necesarios y que conozcamos las herramientas que vamos a utilizar en el curso.\n",
    "\n"
   ]
  },
  {
   "cell_type": "markdown",
   "metadata": {},
   "source": [
    "## Primera Parte: Instalación de Anaconda y otros\n",
    "\n",
    "La primera parte de la tarea es asegurarnos que todos tenemos instalado Python y los modulos necesarios para el curso. Para efectos de este curso vamos a utilizar la distribución llamada Anaconda que nos permite tener dichos módulos previamente instalados.\n",
    "\n",
    "### Paso 1: \n",
    "Instalar anaconda y miniconda, en los siguientes links van a encontrar las instrucciones detalladas para la instalación. Pueden realizar la instalación por medio del instalador gráfico o por medio de la terminal. \n",
    "\n",
    "**Instrucciones para Mac**\n",
    "https://conda.io/docs/user-guide/install/macos.html\n",
    "\n",
    "**Instrucciones para Windows**\n",
    "https://conda.io/docs/user-guide/install/windows.html\n",
    "https://www.youtube.com/watch?v=k_ZtrU2yN3g\n",
    "\n",
    "En caso de que no funcione, aquí pueden encontrar todas las versiones del software para descargar: https://repo.anaconda.com/\n",
    "\n",
    "\n",
    "### Paso 2 :\n",
    "Instalar Anaconda Navigator,[en este link](https://docs.anaconda.com/anaconda/navigator/) pueden ver qué es y para qué funciona. \n",
    "\n",
    "Anaconda Navigator debería instalarse al hacer la instalación completa Anaconda, de ser así deberían poder poner en el search tanto de Windows como de Mac \"Anaconda Navigator\" y ver el siguiente logo: \n",
    "\n",
    "<img src=\"./img/anaconda-icon-1024x1024.png\" alt=\"drawing\" width=\"100\"/>\n",
    "\n",
    "\n",
    "En caso de que no se haya instalado, pueden instalarlo de la siguiente manera: \n",
    "\n",
    "https://anaconda.org/anaconda/anaconda-navigator\n",
    "\n",
    "\n",
    "\n",
    "### Paso 3:\n",
    "Instalar Git\n",
    "\n",
    "**Instrucciones para Mac**\n",
    "https://www.atlassian.com/git/tutorials/install-git\n",
    "\n",
    "**Instrucciones para Windows**\n",
    "https://www.atlassian.com/git/tutorials/install-git#windows\n",
    "\n",
    "\n",
    "\n"
   ]
  },
  {
   "cell_type": "markdown",
   "metadata": {},
   "source": [
    "## Segunda Parte: Sintiéndose cómodos con el command line\n",
    "\n",
    "Para efectos del curso va a ser necesario tener un entendimiento básico de cómo funciona la línea de comandos, de manera que se puedan ejecutar archivos de python cuando se programe. \n",
    "\n",
    "Durante la clase vimos los comandos básicos, pero pueden extender su conocimiento en los siguientes links: \n",
    "\n",
    " [Viking School](http://www.vikingcodeschool.com/web-development-basics/a-command-line-crash-course)\n",
    "    \n",
    " [Life Hacker](https://lifehacker.com/5633909/who-needs-a-mouse-learn-to-use-the-command-line-for-almost-anything)\n",
    "\n",
    "Si se sienten con ganas de ponerse cool aquí algunos tips de como personalizar la terminal:\n",
    "\n",
    "      http://osxdaily.com/2013/02/05/improve-terminal-appearance-mac-os-x/ \n",
    "\n",
    "      https://medium.com/purple-rock-scissors/customizing-your-terminal-with-bash-a22852abc447\n",
    "\n",
    "      https://www.youtube.com/watch?v=VIaAXppJBok\n",
    "\n",
    "\n",
    "\n",
    "\n",
    "\n",
    "\n",
    "![Cool](https://media.giphy.com/media/GCvktC0KFy9l6/giphy.gif \"cool\")\n",
    "\n",
    "\n",
    "\n",
    "\n"
   ]
  },
  {
   "cell_type": "markdown",
   "metadata": {},
   "source": [
    "## Tercera Parte: Git y Jupyter Notebooks\n",
    "\n",
    "\n",
    "**Recursos para aprender Git:**\n",
    "\n",
    " https://try.github.io/\n",
    " \n",
    " https://learngitbranching.js.org/\n",
    "\n",
    "\n",
    "**Recursos Para Aprender más sobre jupyter notebooks:** \n",
    "\n",
    "https://jupyter.brynmawr.edu/services/public/dblank/Jupyter%20Notebook%20Users%20Manual.ipynb\n",
    "\n",
    "https://www.analyticsvidhya.com/blog/2018/05/starters-guide-jupyter-notebook/\n",
    "\n",
    "\n",
    "\n",
    "\n",
    "**Recursos para aprender Markdown**\n",
    "\n",
    "https://www.markdowntutorial.com/\n",
    "\n",
    "https://guides.github.com/features/mastering-markdown/\n"
   ]
  },
  {
   "cell_type": "markdown",
   "metadata": {},
   "source": [
    "## Parte 4: Ejercicios"
   ]
  },
  {
   "cell_type": "markdown",
   "metadata": {},
   "source": [
    "**Ejercicio 1: Crear una tabla de commandos con markdown y lo que hacen para referencia**\n",
    "\n",
    "Comando | ¿Qué hace?\n",
    "------------ | -------------\n",
    "Comando | Descripcion\n",
    "Comando 2| Descripcion 2\n",
    "\n",
    "\n"
   ]
  },
  {
   "cell_type": "raw",
   "metadata": {},
   "source": [
    "#Respuesta Ejercicio 1\n",
    "\n",
    "Comando | ¿Qué hace?\n",
    "------------ | -------------\n",
    "ls      | Despliega el contenido del directorio\n",
    "cat     | Muestra el contenido del archivo\n",
    "\n"
   ]
  },
  {
   "cell_type": "markdown",
   "metadata": {},
   "source": [
    "**Ejercicio 2: Crear estructura de folders desde la consola**\n",
    "\n",
    "Escribir los comandos que deben ejecutarse en la consola para lograr la siguiente estructura de archivos: \n",
    "\n",
    "\n",
    "![Img](./img/mapa.png)\n",
    "\n"
   ]
  },
  {
   "cell_type": "raw",
   "metadata": {},
   "source": [
    "# Respuesta Ejercicio 2\n",
    "\n",
    "\n",
    "\n"
   ]
  },
  {
   "cell_type": "markdown",
   "metadata": {},
   "source": [
    "**Ejercicio 3: Crear cuenta de Github**\n",
    "\n",
    "Crear una cuenta de GitHub y crear el primer repositorio y crear el primer push al repositorio con algun texto y pegar link del repositorio en la celda de abajo. "
   ]
  },
  {
   "cell_type": "raw",
   "metadata": {},
   "source": [
    "# Pegar Link a Repo aquí\n",
    "\n",
    "https://github.com/taconcr/Python-Course/blob/master/tarea2.txt\n",
    "\n",
    "\n"
   ]
  },
  {
   "cell_type": "markdown",
   "metadata": {},
   "source": [
    "**Ejercicio 4: Area de un circulo **\n",
    "\n",
    "Escriba la ecuación necesaria para calcular el área de un círculo. \n",
    "\n",
    "**Ejemplo:**\n",
    "\n",
    "Para un círculo de radio de 40cm usando pi como 3.1416\n",
    "\n",
    "Resultado esperado: 5026.5599999999995\n",
    "    "
   ]
  },
  {
   "cell_type": "code",
   "execution_count": null,
   "metadata": {},
   "outputs": [],
   "source": [
    "# Respuesta Ejercicio 4\n",
    "\n",
    "# calcula el area de un circulo\n",
    "PI = 3.1416\n",
    "while True:\n",
    "    try:\n",
    "        r = input(\"Digite el radio del circulo o ENTER para finalizar: \")\n",
    "        if r == \"\":\n",
    "            break;\n",
    "        radio = int(r)\n",
    "        area = PI * radio ** 2.0\n",
    "        print(\"El area de un circulo es %5.10f\" %area)\n",
    "    except ValueError:\n",
    "        print('Error: Debe digitar un numero')\n"
   ]
  },
  {
   "cell_type": "markdown",
   "metadata": {},
   "source": [
    "**Ejercicio 5: Teorema de Pitagoras **\n",
    "\n",
    "Se tienen varios triangulos rectangulos con las siguientes medidas:\n",
    "\n",
    "Lado 1 | Lado 2 | Hipotenusa\n",
    "------------ | ------------- | -------------\n",
    "3 | 4 | x\n",
    "3 | x | 10\n",
    "x | 10 | 30\n",
    "\n",
    "Calcule los valores de X\n",
    "\n",
    "**Respuestas esperadas:**\n",
    "\n",
    "5.0\n",
    "\n",
    "9.539392014169456\n",
    "\n",
    "28.284271247461902\n"
   ]
  },
  {
   "cell_type": "code",
   "execution_count": null,
   "metadata": {},
   "outputs": [],
   "source": [
    "# Respuesta Ejercicio 5\n",
    "# Teorema de Pitagoras\n",
    "# hipotenusa^2 = a^2 + b^2\n",
    "\n",
    "'''  Attempts to read a number\n",
    "        if it's ENTER then returns 'ENTER'\n",
    "        if it's a integer number\n",
    "           then return the integer number\n",
    "           else return a string 'NOT NUMBER\n",
    "'''\n",
    "def lea_numero(mensaje):\n",
    "    try:\n",
    "        a = input(mensaje)\n",
    "        if a == '':\n",
    "            return 'ENTER'\n",
    "        a = int(a)\n",
    "        return a\n",
    "    except:\n",
    "        return 'NOT NUMBER'\n",
    "\n",
    "\n",
    "print('Teorema de Pitagoras\\n')\n",
    "print('     hipotenusa ^ 2 = lado1 ^ 2 + lado2 ^ 2\\n')\n",
    "print('Digite 2 valores cualquiera y el programa calcula el otro valor\\n')\n",
    "print('Ejemplo 1: Si digita lado1 = 3 y lado2 = 4 y Hipotenusa = ENTER')\n",
    "print('El programa le calcula la hipotenusa\\n')\n",
    "print('Ejemplo 2: Si digita lado1 = 3 y lado2 = ENTER y Hipotenusa = 10')\n",
    "print('El programa le calcula el lado2\\n')\n",
    "\n",
    "while True:\n",
    "    lado1 = lea_numero('Digite lado1 o ENTER:')\n",
    "    lado2 = lea_numero('Digite lado2 o ENTER:')\n",
    "    hipotenusa = lea_numero('Digite hipotenusa o ENTER:')\n",
    "\n",
    "    if isinstance(lado1, int) and isinstance(lado2, int) and hipotenusa == 'ENTER':\n",
    "        hipotenusa = (lado1 ** 2 + lado2 ** 2) ** 0.5\n",
    "        print(\"{%f} ^ 2 = {%f} ^ 2 + {%f} ^ 2\\n\" %(hipotenusa, lado1, lado2))\n",
    "    elif isinstance(lado1, int) and lado2 == 'ENTER' and isinstance(hipotenusa, int):\n",
    "        lado2 = (hipotenusa ** 2 - lado1 ** 2) ** 0.5\n",
    "        print(\"{%f} ^ 2 = {%f} ^ 2 + {%f} ^ 2\\n\" %(hipotenusa, lado1, lado2))\n",
    "    elif lado1 == 'ENTER' and isinstance(lado2, int) and isinstance(hipotenusa, int):\n",
    "        lado1 = (hipotenusa ** 2 - lado2 ** 2) ** 0.5\n",
    "        print(\"{%f} ^ 2 = {%f} ^ 2 + {%f} ^ 2\\n\" %(hipotenusa, lado1, lado2))\n",
    "    else:\n",
    "        print('Debe digitar 2 valores y dejar uno nulo\\n')\n",
    "    r = input('Si desea realizar otro calculo presione ENTER para SI o cualquier tecla par NO : ')\n",
    "    if r != '':\n",
    "        break\n"
   ]
  },
  {
   "cell_type": "markdown",
   "metadata": {},
   "source": [
    "**Ejercicio 6: Area Superficial y Volumen de un cilindro **\n",
    "\n",
    "\n",
    "Calcule el area superficial y el volumen de un cilindro de radio de 8cm y altura de 0.15m, utilizando pi como 3.1416\n",
    "\n",
    "**Resultado esperado:**\n",
    "\n",
    "_Volumen: 3015.936 cm <sup>3</sup>_\n",
    "\n",
    "_Area Superficial: 1156.1088 cm <sup>2</sup>_\n",
    "\n"
   ]
  },
  {
   "cell_type": "code",
   "execution_count": 3,
   "metadata": {},
   "outputs": [
    {
     "name": "stdout",
     "output_type": "stream",
     "text": [
      "Digite el radio del cilindro en centimetros o ENTER para finalizar: 8\n",
      "Digite la altura del cilindro en centimetros: \n",
      "\n",
      "ERROR: Debe digitar un numero\n",
      "\n",
      "Digite el radio del cilindro en centimetros o ENTER para finalizar: 8\n",
      "Digite la altura del cilindro en centimetros: 15\n",
      "\n",
      "volumen del cilindro es 3015.936000 cm3\n",
      "area total del cilindro es 1156.108800 cm3\n",
      "\n",
      "Digite el radio del cilindro en centimetros o ENTER para finalizar: 15\n",
      "Digite la altura del cilindro en centimetros: \n",
      "\n",
      "ERROR: Debe digitar un numero\n",
      "\n",
      "Digite el radio del cilindro en centimetros o ENTER para finalizar: 8\n",
      "Digite la altura del cilindro en centimetros: 15\n",
      "\n",
      "volumen del cilindro es 3015.936000 cm3\n",
      "area total del cilindro es 1156.108800 cm3\n",
      "\n",
      "Digite el radio del cilindro en centimetros o ENTER para finalizar: \n"
     ]
    }
   ],
   "source": [
    "# Ejercicio #6\n",
    "\n",
    "# calcula el area de un circulo\n",
    "PI = 3.1416\n",
    "while True:\n",
    "    try:\n",
    "        r = input(\"Digite el radio del cilindro en centimetros o ENTER para finalizar: \")\n",
    "        if r == '':\n",
    "            break\n",
    "        \n",
    "        # calcula el area de un circulo\n",
    "        radio = int(r)\n",
    "        area_circulo = PI * radio ** 2\n",
    "        #print(\"El area de un circulo es %f\" %area_circulo)\n",
    "    \n",
    "        h = input(\"Digite la altura del cilindro en centimetros: \")\n",
    "        print()\n",
    "\n",
    "        # calculo del area total del cilindro\n",
    "        altura = int(h)\n",
    "        area_cilindro = 2 * area_circulo\n",
    "        area_lateral_cilindro = 2 * PI * radio * altura\n",
    "        area_total_cilindro = area_cilindro + area_lateral_cilindro\n",
    "\n",
    "        # calculo del volumen del ciclindro\n",
    "        volumen_cilindro = PI * radio ** 2 * altura\n",
    "        print(\"volumen del cilindro es %f cm3\" %volumen_cilindro)\n",
    "        print(\"area total del cilindro es %f cm3\\n\" %area_total_cilindro)\n",
    "    except ValueError:\n",
    "        print('ERROR: Debe digitar un numero\\n')"
   ]
  },
  {
   "cell_type": "code",
   "execution_count": null,
   "metadata": {},
   "outputs": [],
   "source": [
    "\n"
   ]
  }
 ],
 "metadata": {
  "kernelspec": {
   "display_name": "Python 3",
   "language": "python",
   "name": "python3"
  },
  "language_info": {
   "codemirror_mode": {
    "name": "ipython",
    "version": 3
   },
   "file_extension": ".py",
   "mimetype": "text/x-python",
   "name": "python",
   "nbconvert_exporter": "python",
   "pygments_lexer": "ipython3",
   "version": "3.7.3"
  }
 },
 "nbformat": 4,
 "nbformat_minor": 2
}
