{
 "cells": [
  {
   "cell_type": "markdown",
   "metadata": {},
   "source": [
    "## Ejercicio 1: Manipular Archivos\n",
    "\n",
    "Dentro de este mismo directorio se encuentra un archivo que se llama \"tarea2.txt\". Ese archivo contiene información sobre 5 estudiantes y sus respectivas notas para 5 examenes.\n",
    "\n",
    "Cada linea tiene la siguiente estructura: nombre_estudiante: nota_examen1 nota_examen2 nota_examen3 nota_examen4 nota_examen5\n",
    "\n",
    "Escriban un programa que genere un archivo nuevo donde contenga en nombre de cada estudiante y su respectiva nota promedio de esos 5 examenes.\n",
    "\n",
    "La estrucutra de cada linea en el nuevo archivo debería de ser: nombre_estudiante: nota_promedio\n",
    "\n",
    "* utiliazar la metodologia de \"with\" para abrir el archivo\n"
   ]
  },
  {
   "cell_type": "code",
   "execution_count": 1,
   "metadata": {
    "scrolled": true
   },
   "outputs": [
    {
     "name": "stdout",
     "output_type": "stream",
     "text": [
      " juan: 80.80\n",
      "\n",
      " luis: 81.60\n",
      "\n",
      " ana: 89.60\n",
      "\n",
      " sofia: 81.00\n",
      "\n",
      " julio: 83.40\n",
      "\n"
     ]
    }
   ],
   "source": [
    "## Respuesta Ejercicio 1\n",
    "\n",
    "path = \"C:\\\\Users\\\\tacon\\\\Desktop\\\\Data Analyst Course\\\\Python course\\\\tareas\\\\\"\n",
    "\n",
    "# open file for writing output\n",
    "arch_sal = open(path + \"tarea2_salida.txt\", \"w\")\n",
    "\n",
    "with open(path + 'tarea2.txt') as arch_ent:\n",
    "    for line in arch_ent:\n",
    "        lista = line.split()\n",
    "        prom = 0\n",
    "        for i in range(1, 6):\n",
    "            prom += int(lista[i])\n",
    "        prom /= 5\n",
    "        #linea_salida = lista[0] + str(prom)\n",
    "        print(\" %s %5.2f\\n\" %(lista[0], prom))\n",
    "        arch_sal.write(\" %s %5.2f\\n\" %(lista[0], prom))\n",
    "\n",
    "arch_sal.close()\n"
   ]
  },
  {
   "cell_type": "markdown",
   "metadata": {},
   "source": [
    "## Ejercicio 2: Manipular Archivos\n",
    "\n",
    "Dentro de este mismo directorio se encuentra un archivo que se llama \"introduccion.txt\". Este archivo contiene tres lineas con frases donde faltan palabras para rellenar. La posicion donde deberían de rellenar las palabras estan marcadas con [ ]. \n",
    "\n",
    "Para este ejercicio deberán de leer el archivo, y escribir sobre el mismo archivo cada vez que pasen por un [ ] con una palabra que complete la frase.\n",
    "\n",
    "* utiliazar la metodologia de \"with\" para abrir el archivo"
   ]
  },
  {
   "cell_type": "code",
   "execution_count": null,
   "metadata": {},
   "outputs": [],
   "source": [
    "## Respuesta Ejercicio 2\n",
    "\n",
    "path = \"C:\\\\Users\\\\tacon\\\\Desktop\\\\Data Analyst Course\\\\Python course\\\\tareas\\\\\"\n",
    "\n",
    "arch_datos = open(path + 'introduccion_datos.txt')\n",
    "\n",
    "with open(path + 'introduccion.txt', 'r+') as arch_ent:\n",
    "    for linea in arch_ent:\n",
    "        while linea.find('[]') != -1:\n",
    "            linea = linea.replace('[]',arch_datos.readline(), 1)\n",
    "        arch_ent.write(linea)\n",
    "        print(linea)\n",
    "\n",
    "arch_datos.close()"
   ]
  },
  {
   "cell_type": "markdown",
   "metadata": {},
   "source": [
    "## Ejercicio 3: Sentencias Condicionales y Loops\n",
    "\n",
    "Crear un programa que revise si un código ISBN-10 es valido o no. Un códifo ISBN-10 consiste de 10 characteres donde todos son digitos del 0-9, a excepción del último que puede ser un digito o la letra X (que equivale al numero 10). La formula para chequear si es un código valido es la siguiente:\n",
    "\n",
    "(x*1 + x*2 + x*3 + x*4 + x*5 + x*6 + x*7 + x*8 + x*9 + x*10) % 11 == 0\n",
    "\n",
    "donde x representa el digito cuando se itera sobre el ISBN-10 de izquierda a derecha."
   ]
  },
  {
   "cell_type": "code",
   "execution_count": null,
   "metadata": {},
   "outputs": [],
   "source": [
    "## Respuesta Ejercicio 3\n",
    "\n",
    "# check if digit is between 0 and 9\n",
    "def isdigit(digit):\n",
    "    try:\n",
    "        d = int(digit)\n",
    "        return True\n",
    "    except:\n",
    "        return False\n",
    "\n",
    "def revise_isbn_10(isbn):\n",
    "    ok = True\n",
    "    i = 0\n",
    "    numero = 0\n",
    "    # los primeros 9 caracteres son digitos?\n",
    "    while i < 9 and ok:\n",
    "        ok = isdigit(isbn[i])\n",
    "        if ok:\n",
    "            numero += int(isbn[i])\n",
    "        i += 1\n",
    "\n",
    "    if i < 9:\n",
    "        print(\"Numero ISBN invalido: revise posicion %d\" %i)\n",
    "    else:\n",
    "        if isdigit(isbn[9]) or isbn[9].lower() == 'x':\n",
    "            if isbn[9].lower() == 'x':\n",
    "                numero += 10\n",
    "            else:\n",
    "                numero += int(isbn[9])\n",
    "            if numero % 11 == 0:\n",
    "                print('es un numero ISBN')\n",
    "            else:\n",
    "                print(\"Numero ISBN invalido: no es divisible por 11\")\n",
    "        else:\n",
    "            print('No es un numero ISBN: ultimo digito invalido')\n",
    "            \n",
    "def longitud_correcta(inp):\n",
    "    return len(inp) == 10\n",
    "\n",
    "cont = True\n",
    "while cont:\n",
    "    inp = input(\"Digite codigo ISBN-10 o fin para terminar: \")\n",
    "    if inp.lower() == 'fin':\n",
    "        break\n",
    "    if longitud_correcta(inp):\n",
    "        revise_isbn_10(inp)\n",
    "    else:\n",
    "        print('Numero ISBN invalido: numero debe ser de longitud 10')\n",
    "\n"
   ]
  },
  {
   "cell_type": "markdown",
   "metadata": {},
   "source": [
    "## Ejercicio 4: List Comprehension\n",
    "Para los siguientes ejercicos tienen que crear una lista o un diccionario nuevo utilizando la metodología de list comprehension.\n",
    "\n",
    "a. Crear una lista de todos los numeros del 1-1000, incluyendo ambos, que sean divisibles entre 7.\n",
    "\n",
    "b. Eliminar todas las vocales de un string.\n",
    "\n",
    "c. Crear un diccionario a partir de un string que contiene una frase. Para cada palabra en la frase crear un key,value pair tuple donde el key sea equivalente a la palabra (string) y el value sea equivalente al largo de la plabra (int). "
   ]
  },
  {
   "cell_type": "code",
   "execution_count": null,
   "metadata": {},
   "outputs": [],
   "source": [
    "## Respuesta Ejercicio 4\n",
    "\n",
    "# numeros divisibles por 7\n",
    "numeros = [i for i in range(1, 1001)]\n",
    "numeros_divisible_x7 = [i for i in numeros if i % 7 == 0]\n",
    "print('Numeros divisibles por 7\\n')\n",
    "print(numeros_divisible_x7)\n",
    "print()\n",
    "\n",
    "\n",
    "# Eliminar todas las vocales de un string.\n",
    "vocales = 'aeiou'\n",
    "string = 'ajdbwhf;esnv;is;fosu'\n",
    "consonantes = [x for x in string if x not in vocales]\n",
    "sin_vocales = ''.join(consonantes)\n",
    "print('Sin vocales\\n')\n",
    "print('Original: %s' %string)\n",
    "print('Sin vocales: %s' %sin_vocales)\n",
    "print()\n",
    "\n",
    "\n",
    "# crear diccionario de un string\n",
    "frase = 'no es lo mismo el rio mississippi, que mis pipis en el rio'\n",
    "split_frase = frase.split()\n",
    "dicc = {k : len(k) for k in split_frase}\n",
    "print('crear diccionario de un string\\n')\n",
    "print('Frase: %s' %frase)\n",
    "print('Diccionario: %s' %dicc)\n",
    "\n"
   ]
  },
  {
   "cell_type": "markdown",
   "metadata": {},
   "source": [
    "## Ejercicio 5: Loops\n",
    "\n",
    "Escribir un programa que imprima lo siguiente:\n",
    "\n",
    "\\*\n",
    "\n",
    "\\*\\*\n",
    "\n",
    "\\*\\*\\*\n",
    "\n",
    "\\*\\*\\*\\*\n",
    "\n",
    "\\*\\*\\*\\*\\*\n",
    "\n",
    "\\*\\*\\*\\*\n",
    "\n",
    "\\*\\*\\*\n",
    "\n",
    "\\*\\*\n",
    "\n",
    "\\*\n",
    "\n",
    "* Hint: Utilizar nested loops, no hacen falta sentencias condicionales."
   ]
  },
  {
   "cell_type": "code",
   "execution_count": null,
   "metadata": {},
   "outputs": [],
   "source": [
    "# Respuesta Ejercicio 5\n",
    "for i in range(1, 6):\n",
    "    print('*' * i)\n",
    "for i in range(4, 0, -1):\n",
    "    print('*' * i)"
   ]
  },
  {
   "cell_type": "code",
   "execution_count": null,
   "metadata": {},
   "outputs": [],
   "source": []
  }
 ],
 "metadata": {
  "kernelspec": {
   "display_name": "Python 3",
   "language": "python",
   "name": "python3"
  },
  "language_info": {
   "codemirror_mode": {
    "name": "ipython",
    "version": 3
   },
   "file_extension": ".py",
   "mimetype": "text/x-python",
   "name": "python",
   "nbconvert_exporter": "python",
   "pygments_lexer": "ipython3",
   "version": "3.7.3"
  }
 },
 "nbformat": 4,
 "nbformat_minor": 2
}
